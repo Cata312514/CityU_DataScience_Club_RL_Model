{
 "cells": [
  {
   "cell_type": "markdown",
   "id": "2403cbde",
   "metadata": {},
   "source": [
    "# Installing OpenAI Gym and Stable Baselines"
   ]
  },
  {
   "cell_type": "code",
   "execution_count": null,
   "id": "af7ea02b-db7c-4fd4-97cf-9b037724cb4a",
   "metadata": {},
   "outputs": [],
   "source": [
    "# Install super mario game environment and NES emulator and OpenAI Gym interface\n",
    "!pip install gym_super_mario_bros==7.3.0 \n",
    "!pip install nes_py"
   ]
  },
  {
   "cell_type": "code",
   "execution_count": null,
   "id": "0a73106d-d290-419a-b9c9-11b6aff87da6",
   "metadata": {},
   "outputs": [],
   "source": [
    "# install stable baselines for RL algorithms\n",
    "!pip install stable_baselines3[extra]  # current version"
   ]
  },
  {
   "cell_type": "markdown",
   "id": "1e0f2901-0a29-4330-92d8-3d0b9eb8564f",
   "metadata": {},
   "source": [
    "# Setup Mario"
   ]
  },
  {
   "cell_type": "code",
   "execution_count": 4,
   "id": "76dcf331-6e3e-448f-8338-109a0e107d99",
   "metadata": {},
   "outputs": [],
   "source": [
    "# Import game\n",
    "import gym_super_mario_bros\n",
    "\n",
    "# Import the Joypad wrapper\n",
    "from nes_py.wrappers import JoypadSpace\n",
    "\n",
    "# Import simplified controls for AI to learn faster\n",
    "from gym_super_mario_bros.actions import SIMPLE_MOVEMENT"
   ]
  },
  {
   "cell_type": "code",
   "execution_count": 5,
   "id": "4292d745-af3e-4ab7-9afb-f44fc01c56ec",
   "metadata": {},
   "outputs": [
    {
     "data": {
      "text/plain": [
       "[['NOOP'],\n",
       " ['right'],\n",
       " ['right', 'A'],\n",
       " ['right', 'B'],\n",
       " ['right', 'A', 'B'],\n",
       " ['A'],\n",
       " ['left']]"
      ]
     },
     "execution_count": 5,
     "metadata": {},
     "output_type": "execute_result"
    }
   ],
   "source": [
    "# check Actions\n",
    "SIMPLE_MOVEMENT"
   ]
  },
  {
   "cell_type": "code",
   "execution_count": 6,
   "id": "8c23be36-465d-4c06-be41-8da6f42b17d6",
   "metadata": {},
   "outputs": [],
   "source": [
    "# Setup game\n",
    "env = gym_super_mario_bros.make('SuperMarioBros-v0')\n",
    "env = JoypadSpace(env, SIMPLE_MOVEMENT)  # simplifies actions"
   ]
  },
  {
   "cell_type": "code",
   "execution_count": 7,
   "id": "be8eeb78-b9b1-4bf1-8e31-6ef3cf980a87",
   "metadata": {},
   "outputs": [
    {
     "data": {
      "text/plain": [
       "Discrete(7)"
      ]
     },
     "execution_count": 7,
     "metadata": {},
     "output_type": "execute_result"
    }
   ],
   "source": [
    "env.action_space"
   ]
  },
  {
   "cell_type": "code",
   "execution_count": 8,
   "id": "3d6fef72-43fd-4f49-b2b4-439c3eef0f60",
   "metadata": {},
   "outputs": [
    {
     "data": {
      "text/plain": [
       "Box([[[0 0 0]\n",
       "  [0 0 0]\n",
       "  [0 0 0]\n",
       "  ...\n",
       "  [0 0 0]\n",
       "  [0 0 0]\n",
       "  [0 0 0]]\n",
       "\n",
       " [[0 0 0]\n",
       "  [0 0 0]\n",
       "  [0 0 0]\n",
       "  ...\n",
       "  [0 0 0]\n",
       "  [0 0 0]\n",
       "  [0 0 0]]\n",
       "\n",
       " [[0 0 0]\n",
       "  [0 0 0]\n",
       "  [0 0 0]\n",
       "  ...\n",
       "  [0 0 0]\n",
       "  [0 0 0]\n",
       "  [0 0 0]]\n",
       "\n",
       " ...\n",
       "\n",
       " [[0 0 0]\n",
       "  [0 0 0]\n",
       "  [0 0 0]\n",
       "  ...\n",
       "  [0 0 0]\n",
       "  [0 0 0]\n",
       "  [0 0 0]]\n",
       "\n",
       " [[0 0 0]\n",
       "  [0 0 0]\n",
       "  [0 0 0]\n",
       "  ...\n",
       "  [0 0 0]\n",
       "  [0 0 0]\n",
       "  [0 0 0]]\n",
       "\n",
       " [[0 0 0]\n",
       "  [0 0 0]\n",
       "  [0 0 0]\n",
       "  ...\n",
       "  [0 0 0]\n",
       "  [0 0 0]\n",
       "  [0 0 0]]], [[[255 255 255]\n",
       "  [255 255 255]\n",
       "  [255 255 255]\n",
       "  ...\n",
       "  [255 255 255]\n",
       "  [255 255 255]\n",
       "  [255 255 255]]\n",
       "\n",
       " [[255 255 255]\n",
       "  [255 255 255]\n",
       "  [255 255 255]\n",
       "  ...\n",
       "  [255 255 255]\n",
       "  [255 255 255]\n",
       "  [255 255 255]]\n",
       "\n",
       " [[255 255 255]\n",
       "  [255 255 255]\n",
       "  [255 255 255]\n",
       "  ...\n",
       "  [255 255 255]\n",
       "  [255 255 255]\n",
       "  [255 255 255]]\n",
       "\n",
       " ...\n",
       "\n",
       " [[255 255 255]\n",
       "  [255 255 255]\n",
       "  [255 255 255]\n",
       "  ...\n",
       "  [255 255 255]\n",
       "  [255 255 255]\n",
       "  [255 255 255]]\n",
       "\n",
       " [[255 255 255]\n",
       "  [255 255 255]\n",
       "  [255 255 255]\n",
       "  ...\n",
       "  [255 255 255]\n",
       "  [255 255 255]\n",
       "  [255 255 255]]\n",
       "\n",
       " [[255 255 255]\n",
       "  [255 255 255]\n",
       "  [255 255 255]\n",
       "  ...\n",
       "  [255 255 255]\n",
       "  [255 255 255]\n",
       "  [255 255 255]]], (240, 256, 3), uint8)"
      ]
     },
     "execution_count": 8,
     "metadata": {},
     "output_type": "execute_result"
    }
   ],
   "source": [
    "env.observation_space"
   ]
  },
  {
   "cell_type": "code",
   "execution_count": 9,
   "id": "fd0af593-dc28-4349-9d8b-2bec62bb7035",
   "metadata": {},
   "outputs": [
    {
     "name": "stdout",
     "output_type": "stream",
     "text": [
      "(240, 256, 3)\n"
     ]
    }
   ],
   "source": [
    "print(env.observation_space.shape)"
   ]
  },
  {
   "cell_type": "code",
   "execution_count": null,
   "id": "e26ae574-38c3-4bb3-b0fc-595e50747002",
   "metadata": {},
   "outputs": [],
   "source": [
    "# Create a flag- restart or not\n",
    "done = True\n",
    "# Loop through each frame in the game\n",
    "for frame in range(100000):\n",
    "    if done:\n",
    "        # Start or restart the game\n",
    "        env.reset()\n",
    "    # Pass an action for the game randomly: left, right, etc. from SIMPLE_MOVEMENT\n",
    "    state, reward, done, info = env.step(env.action_space.sample())\n",
    "    # Show the game on the screen\n",
    "    env.render()\n",
    "# Closes the game\n",
    "env.close()"
   ]
  },
  {
   "cell_type": "markdown",
   "id": "6cb64a08-3b86-46ae-8307-a7353a6a45c8",
   "metadata": {},
   "source": [
    "# Preprocess Environment"
   ]
  },
  {
   "cell_type": "code",
   "execution_count": 11,
   "id": "b55aa45f-424f-4638-a05d-8cfe8d71a342",
   "metadata": {},
   "outputs": [],
   "source": [
    "# Import Frame Stacker Wrapper and GrayScaling Wrapper\n",
    "from gym.wrappers import GrayScaleObservation\n",
    "\n",
    "# Import  Vectorization Wrappers\n",
    "from stable_baselines3.common.vec_env import VecFrameStack, DummyVecEnv\n",
    "\n",
    "# Import Matplotlib to show impact of frame stacking\n",
    "from matplotlib import pyplot as plt"
   ]
  },
  {
   "cell_type": "markdown",
   "id": "2a739ec7",
   "metadata": {},
   "source": [
    "GrayScaleObservation - converts colored frames into grayscale to cut down on computation time and making the training faster\n",
    "\n",
    "VecFrameStack - capture several frames while playing the game, vectorize and stack them together. AI will be able to see the actions taken for those frames and learn from them\n",
    "\n",
    "DummyVecEnv -  wrap stacked frames with the dummy vector environment created for stable baseline and train agent in multiple environments at the same time"
   ]
  },
  {
   "cell_type": "code",
   "execution_count": 12,
   "id": "9fd361a7",
   "metadata": {},
   "outputs": [],
   "source": [
    "# Setup the base environment\n",
    "env = gym_super_mario_bros.make('SuperMarioBros-v0')  # standard version"
   ]
  },
  {
   "cell_type": "code",
   "execution_count": 13,
   "id": "a45bfe89-2251-48e3-971a-7762ebdc217e",
   "metadata": {},
   "outputs": [],
   "source": [
    "# Simplify the controls or actions\n",
    "env = JoypadSpace(env, SIMPLE_MOVEMENT)"
   ]
  },
  {
   "cell_type": "code",
   "execution_count": 14,
   "id": "4ee3d5e6-3fc3-47a9-9a51-8eab230bb93c",
   "metadata": {},
   "outputs": [],
   "source": [
    "state = env.reset()"
   ]
  },
  {
   "cell_type": "code",
   "execution_count": 15,
   "id": "2a9458e5-56f7-47f0-bf6e-881c08703543",
   "metadata": {},
   "outputs": [
    {
     "data": {
      "text/plain": [
       "(240, 256, 3)"
      ]
     },
     "execution_count": 15,
     "metadata": {},
     "output_type": "execute_result"
    }
   ],
   "source": [
    "state.shape"
   ]
  },
  {
   "cell_type": "code",
   "execution_count": 16,
   "id": "fc1754d8-aa8b-475d-b2aa-fab2f42a6e09",
   "metadata": {},
   "outputs": [
    {
     "data": {
      "text/plain": [
       "<matplotlib.image.AxesImage at 0x1d6666a6e50>"
      ]
     },
     "execution_count": 16,
     "metadata": {},
     "output_type": "execute_result"
    },
    {
     "data": {
      "image/png": "[encoded data removed]",
      "text/plain": [
       "<Figure size 432x288 with 1 Axes>"
      ]
     },
     "metadata": {
      "needs_background": "light"
     },
     "output_type": "display_data"
    }
   ],
   "source": [
    "# Show original game frame\n",
    "plt.imshow(state)"
   ]
  },
  {
   "cell_type": "code",
   "execution_count": 17,
   "id": "1805b608-7337-412f-a361-4915bb57b46f",
   "metadata": {},
   "outputs": [],
   "source": [
    "# Convert to gray scale to minimize data for preprocessing\n",
    "env= GrayScaleObservation(env, keep_dim=True)  # keep dimension to be able to apply stacking"
   ]
  },
  {
   "cell_type": "code",
   "execution_count": 18,
   "id": "3fec428c-7848-4453-a47e-a178a81559f0",
   "metadata": {},
   "outputs": [],
   "source": [
    "state = env.reset()"
   ]
  },
  {
   "cell_type": "code",
   "execution_count": 19,
   "id": "b4c0713f-9ee1-4ec1-9be3-321b735fdfcf",
   "metadata": {},
   "outputs": [
    {
     "data": {
      "text/plain": [
       "<matplotlib.image.AxesImage at 0x1d66775fd90>"
      ]
     },
     "execution_count": 19,
     "metadata": {},
     "output_type": "execute_result"
    },
    {
     "data": {
      "image/png": "[encoded data removed]",
      "text/plain": [
       "<Figure size 432x288 with 1 Axes>"
      ]
     },
     "metadata": {
      "needs_background": "light"
     },
     "output_type": "display_data"
    }
   ],
   "source": [
    "# Show game frome after gray scale convertion\n",
    "plt.imshow(state)"
   ]
  },
  {
   "cell_type": "code",
   "execution_count": 20,
   "id": "55d87a17-6784-4156-9afe-e3f43eb28a67",
   "metadata": {},
   "outputs": [
    {
     "data": {
      "text/plain": [
       "(240, 256, 1)"
      ]
     },
     "execution_count": 20,
     "metadata": {},
     "output_type": "execute_result"
    }
   ],
   "source": [
    "state.shape"
   ]
  },
  {
   "cell_type": "code",
   "execution_count": 21,
   "id": "aecb46b6-5e7c-491a-bc31-24098635b2f9",
   "metadata": {},
   "outputs": [],
   "source": [
    "# Wrap inside the Dummy environment\n",
    "env = DummyVecEnv([lambda: env])"
   ]
  },
  {
   "cell_type": "code",
   "execution_count": 22,
   "id": "c3d0b562-66a6-47c9-bda3-3dc901d8b2c9",
   "metadata": {},
   "outputs": [
    {
     "data": {
      "text/plain": [
       "(1, 240, 256, 1)"
      ]
     },
     "execution_count": 22,
     "metadata": {},
     "output_type": "execute_result"
    }
   ],
   "source": [
    "state = env.reset()\n",
    "state.shape"
   ]
  },
  {
   "cell_type": "code",
   "execution_count": 23,
   "id": "f73d82d9-8379-4081-a139-608b148b9419",
   "metadata": {},
   "outputs": [
    {
     "data": {
      "text/plain": [
       "<matplotlib.image.AxesImage at 0x1d66108a790>"
      ]
     },
     "execution_count": 23,
     "metadata": {},
     "output_type": "execute_result"
    },
    {
     "data": {
      "image/png": "[encoded data removed]",
      "text/plain": [
       "<Figure size 432x288 with 1 Axes>"
      ]
     },
     "metadata": {
      "needs_background": "light"
     },
     "output_type": "display_data"
    }
   ],
   "source": [
    "# Show game frame after dummy environment vectorization\n",
    "plt.imshow(state[0])"
   ]
  },
  {
   "cell_type": "code",
   "execution_count": 24,
   "id": "2eff2b02-b95e-4956-b956-71ceddc4f903",
   "metadata": {},
   "outputs": [],
   "source": [
    "# Stack 4 different frames or images together and apply channel order to last.\n",
    "env = VecFrameStack(env, 4, channels_order='last')  "
   ]
  },
  {
   "cell_type": "code",
   "execution_count": 25,
   "id": "2e0250a1-ad38-4dd5-9d72-bdd469d463a4",
   "metadata": {},
   "outputs": [
    {
     "data": {
      "text/plain": [
       "(1, 240, 256, 4)"
      ]
     },
     "execution_count": 25,
     "metadata": {},
     "output_type": "execute_result"
    }
   ],
   "source": [
    "state = env.reset()\n",
    "state.shape"
   ]
  },
  {
   "cell_type": "code",
   "execution_count": 26,
   "id": "75a24319-fb2b-49d3-bcc2-44843c648556",
   "metadata": {},
   "outputs": [
    {
     "data": {
      "text/plain": [
       "<matplotlib.image.AxesImage at 0x1d6610ddbb0>"
      ]
     },
     "execution_count": 26,
     "metadata": {},
     "output_type": "execute_result"
    },
    {
     "data": {
      "image/png": "[encoded data removed]",
      "text/plain": [
       "<Figure size 432x288 with 1 Axes>"
      ]
     },
     "metadata": {
      "needs_background": "light"
     },
     "output_type": "display_data"
    }
   ],
   "source": [
    "# Show game frome after stacking frames\n",
    "plt.imshow(state[0])"
   ]
  },
  {
   "cell_type": "code",
   "execution_count": 27,
   "id": "7db67fdc-aac6-4bca-90ce-2ca7a9ac1439",
   "metadata": {},
   "outputs": [],
   "source": [
    "state, reward, done, info = env.step([env.action_space.sample()])"
   ]
  },
  {
   "cell_type": "code",
   "execution_count": 28,
   "id": "d6a96c85-812a-43dd-a6b4-c0260a8f2a3b",
   "metadata": {},
   "outputs": [
    {
     "data": {
      "image/png": "[encoded data removed]",
      "text/plain": [
       "<Figure size 1440x1152 with 4 Axes>"
      ]
     },
     "metadata": {
      "needs_background": "light"
     },
     "output_type": "display_data"
    }
   ],
   "source": [
    "# Show game frame after stacking\n",
    "plt.figure(figsize=(20,16))\n",
    "for i in range(state.shape[3]):\n",
    "    plt.subplot(1,4,i+1)\n",
    "    plt.imshow(state[0][:,:,i])\n",
    "plt.show()"
   ]
  },
  {
   "cell_type": "code",
   "execution_count": 29,
   "id": "66229699-8297-45b5-9038-e0bcfdf4763e",
   "metadata": {},
   "outputs": [],
   "source": [
    "state = env.reset()"
   ]
  },
  {
   "cell_type": "code",
   "execution_count": 30,
   "id": "0b17c164-97f9-492d-820f-d1072e638fec",
   "metadata": {},
   "outputs": [
    {
     "data": {
      "text/plain": [
       "[['NOOP'],\n",
       " ['right'],\n",
       " ['right', 'A'],\n",
       " ['right', 'B'],\n",
       " ['right', 'A', 'B'],\n",
       " ['A'],\n",
       " ['left']]"
      ]
     },
     "execution_count": 30,
     "metadata": {},
     "output_type": "execute_result"
    }
   ],
   "source": [
    "SIMPLE_MOVEMENT"
   ]
  },
  {
   "cell_type": "code",
   "execution_count": 31,
   "id": "d1b3080f-3493-485b-9763-c12d7adb0352",
   "metadata": {},
   "outputs": [],
   "source": [
    "state, reward, done, info = env.step([5])  # run several times to show mario jumping"
   ]
  },
  {
   "cell_type": "code",
   "execution_count": 32,
   "id": "63560219-8fba-46fa-9a49-aa4c74c7a05d",
   "metadata": {},
   "outputs": [
    {
     "data": {
      "image/png": "[encoded data removed]",
      "text/plain": [
       "<Figure size 1440x1152 with 4 Axes>"
      ]
     },
     "metadata": {
      "needs_background": "light"
     },
     "output_type": "display_data"
    }
   ],
   "source": [
    "# Show game frome after stacking frames\n",
    "plt.figure(figsize=(20,16))\n",
    "for i in range(state.shape[3]):\n",
    "    plt.subplot(1,4,i+1)\n",
    "    plt.imshow(state[0][:,:,i])\n",
    "plt.show()"
   ]
  },
  {
   "cell_type": "markdown",
   "id": "b1fdc6f0-3107-4072-a275-6762d83ab7f3",
   "metadata": {},
   "source": [
    "# Train the model"
   ]
  },
  {
   "cell_type": "code",
   "execution_count": 33,
   "id": "787cfbaf-dc8b-4a83-bf85-a04d2fd7d557",
   "metadata": {},
   "outputs": [],
   "source": [
    "# Import os for file path management\n",
    "import os\n",
    "\n",
    "# import algorithm used for training the model\n",
    "from stable_baselines3 import PPO"
   ]
  },
  {
   "cell_type": "code",
   "execution_count": 34,
   "id": "6509d835-5b0d-4e66-9645-690cd6ef5e2e",
   "metadata": {},
   "outputs": [
    {
     "name": "stdout",
     "output_type": "stream",
     "text": [
      "Using cpu device\n",
      "Wrapping the env in a VecTransposeImage.\n"
     ]
    }
   ],
   "source": [
    "# Save training parameters, results, and logs\n",
    "log_path = os.path.join('Training', 'Logs')\n",
    "\n",
    "# Create a Reinforcement Learning AI model\n",
    "model = PPO('CnnPolicy', env, verbose=1, tensorboard_log=log_path, learning_rate=0.000001, n_steps=512) "
   ]
  },
  {
   "cell_type": "code",
   "execution_count": null,
   "id": "7d974a7a-7f75-425e-9e6e-ae43ad50c22b",
   "metadata": {},
   "outputs": [],
   "source": [
    "model.learn(total_timesteps=10000)  # change to higher value for better results - may take hours without GPU"
   ]
  },
  {
   "cell_type": "markdown",
   "id": "135fea66",
   "metadata": {},
   "source": [
    "# Save the model"
   ]
  },
  {
   "cell_type": "code",
   "execution_count": null,
   "id": "a16fb963-f92c-47e3-9dbf-41b1353013da",
   "metadata": {},
   "outputs": [],
   "source": [
    "model.save('mario_model_10000')"
   ]
  },
  {
   "cell_type": "markdown",
   "id": "d226d256",
   "metadata": {},
   "source": [
    "# Load the model"
   ]
  },
  {
   "cell_type": "code",
   "execution_count": null,
   "id": "06929c88-f632-4f3b-ab81-012782031f8a",
   "metadata": {},
   "outputs": [],
   "source": [
    "model = PPO.load('mario_model_10000')"
   ]
  },
  {
   "cell_type": "markdown",
   "id": "0574a14b-5a2f-49e7-87c6-4ab4a7eda9ad",
   "metadata": {},
   "source": [
    "# Test the model"
   ]
  },
  {
   "cell_type": "code",
   "execution_count": null,
   "id": "1e420f30-7232-4107-a03b-852609aafccc",
   "metadata": {},
   "outputs": [],
   "source": [
    "state = env.reset()\n",
    "while True:\n",
    "    actions, _ = model.predict(state)\n",
    "    state, reward, done, info = env.step(actions)\n",
    "    env.render()"
   ]
  },
  {
   "cell_type": "code",
   "execution_count": null,
   "id": "812b4c1c-dec1-4a67-a242-da993cab93aa",
   "metadata": {},
   "outputs": [],
   "source": []
  },
  {
   "cell_type": "code",
   "execution_count": null,
   "id": "63644e67",
   "metadata": {},
   "outputs": [],
   "source": []
  }
 ],
 "metadata": {
  "interpreter": {
   "hash": "570feb405e2e27c949193ac68f46852414290d515b0ba6e5d90d076ed2284471"
  },
  "kernelspec": {
   "display_name": "Python 3.8.7 64-bit",
   "language": "python",
   "name": "python3"
  },
  "language_info": {
   "codemirror_mode": {
    "name": "ipython",
    "version": 3
   },
   "file_extension": ".py",
   "mimetype": "text/x-python",
   "name": "python",
   "nbconvert_exporter": "python",
   "pygments_lexer": "ipython3",
   "version": "3.8.7"
  }
 },
 "nbformat": 4,
 "nbformat_minor": 5
}
